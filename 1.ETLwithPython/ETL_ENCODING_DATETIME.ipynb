{
 "cells": [
  {
   "cell_type": "code",
   "execution_count": 11,
   "id": "4481e915",
   "metadata": {},
   "outputs": [],
   "source": [
    "import pandas as pd\n",
    "import numpy as np\n",
    "import os"
   ]
  },
  {
   "cell_type": "code",
   "execution_count": 12,
   "id": "febd1a2a",
   "metadata": {},
   "outputs": [],
   "source": [
    "from pathlib import Path \n",
    "import chardet "
   ]
  },
  {
   "cell_type": "code",
   "execution_count": 13,
   "id": "95e8df39",
   "metadata": {},
   "outputs": [
    {
     "data": {
      "text/plain": [
       "WindowsPath('C:/Users/Diego_Castells/Desktop/ETL/DelitosBaires_ETL')"
      ]
     },
     "execution_count": 13,
     "metadata": {},
     "output_type": "execute_result"
    }
   ],
   "source": [
    "root_dir = Path(\".\").resolve().parent\n",
    "root_dir"
   ]
  },
  {
   "cell_type": "code",
   "execution_count": 31,
   "id": "24c1040f",
   "metadata": {},
   "outputs": [
    {
     "data": {
      "text/html": [
       "<div>\n",
       "<style scoped>\n",
       "    .dataframe tbody tr th:only-of-type {\n",
       "        vertical-align: middle;\n",
       "    }\n",
       "\n",
       "    .dataframe tbody tr th {\n",
       "        vertical-align: top;\n",
       "    }\n",
       "\n",
       "    .dataframe thead th {\n",
       "        text-align: right;\n",
       "    }\n",
       "</style>\n",
       "<table border=\"1\" class=\"dataframe\">\n",
       "  <thead>\n",
       "    <tr style=\"text-align: right;\">\n",
       "      <th></th>\n",
       "      <th>id</th>\n",
       "      <th>fecha</th>\n",
       "      <th>tipo_delito</th>\n",
       "    </tr>\n",
       "  </thead>\n",
       "  <tbody>\n",
       "    <tr>\n",
       "      <th>0</th>\n",
       "      <td>51585</td>\n",
       "      <td>2016-01-01</td>\n",
       "      <td>Robo (con violencia)</td>\n",
       "    </tr>\n",
       "    <tr>\n",
       "      <th>1</th>\n",
       "      <td>83256</td>\n",
       "      <td>2016-01-01</td>\n",
       "      <td>Robo (con violencia)</td>\n",
       "    </tr>\n",
       "    <tr>\n",
       "      <th>2</th>\n",
       "      <td>117697</td>\n",
       "      <td>2016-01-01</td>\n",
       "      <td>Lesiones</td>\n",
       "    </tr>\n",
       "    <tr>\n",
       "      <th>3</th>\n",
       "      <td>43088</td>\n",
       "      <td>2016-01-01</td>\n",
       "      <td>Hurto (sin violencia)</td>\n",
       "    </tr>\n",
       "    <tr>\n",
       "      <th>4</th>\n",
       "      <td>68588</td>\n",
       "      <td>2016-01-01</td>\n",
       "      <td>Robo (con violencia)</td>\n",
       "    </tr>\n",
       "    <tr>\n",
       "      <th>...</th>\n",
       "      <td>...</td>\n",
       "      <td>...</td>\n",
       "      <td>...</td>\n",
       "    </tr>\n",
       "    <tr>\n",
       "      <th>126578</th>\n",
       "      <td>81281</td>\n",
       "      <td>2016-12-31</td>\n",
       "      <td>Robo (con violencia)</td>\n",
       "    </tr>\n",
       "    <tr>\n",
       "      <th>126579</th>\n",
       "      <td>95847</td>\n",
       "      <td>2016-12-31</td>\n",
       "      <td>Robo (con violencia)</td>\n",
       "    </tr>\n",
       "    <tr>\n",
       "      <th>126580</th>\n",
       "      <td>79693</td>\n",
       "      <td>2016-12-31</td>\n",
       "      <td>Robo (con violencia)</td>\n",
       "    </tr>\n",
       "    <tr>\n",
       "      <th>126581</th>\n",
       "      <td>81292</td>\n",
       "      <td>2016-12-31</td>\n",
       "      <td>Robo (con violencia)</td>\n",
       "    </tr>\n",
       "    <tr>\n",
       "      <th>126582</th>\n",
       "      <td>81314</td>\n",
       "      <td>2016-12-31</td>\n",
       "      <td>Robo (con violencia)</td>\n",
       "    </tr>\n",
       "  </tbody>\n",
       "</table>\n",
       "<p>126583 rows × 3 columns</p>\n",
       "</div>"
      ],
      "text/plain": [
       "            id       fecha            tipo_delito\n",
       "0        51585  2016-01-01   Robo (con violencia)\n",
       "1        83256  2016-01-01   Robo (con violencia)\n",
       "2       117697  2016-01-01               Lesiones\n",
       "3        43088  2016-01-01  Hurto (sin violencia)\n",
       "4        68588  2016-01-01   Robo (con violencia)\n",
       "...        ...         ...                    ...\n",
       "126578   81281  2016-12-31   Robo (con violencia)\n",
       "126579   95847  2016-12-31   Robo (con violencia)\n",
       "126580   79693  2016-12-31   Robo (con violencia)\n",
       "126581   81292  2016-12-31   Robo (con violencia)\n",
       "126582   81314  2016-12-31   Robo (con violencia)\n",
       "\n",
       "[126583 rows x 3 columns]"
      ]
     },
     "execution_count": 31,
     "metadata": {},
     "output_type": "execute_result"
    }
   ],
   "source": [
    "files_path=os.path .join(root_dir,\"1.ETLwithPython\",\"data\",\"raw\",\"delitos_2016.csv\")\n",
    "files_path\n",
    "df = pd.read_csv(files_path,sep=\",\",dtype=str)\n",
    "#df\n",
    "datarRaw= df['id']\n",
    "fecha= df['fecha']\n",
    "datarRaw= df[['tipo_delito']]\n",
    "\n",
    "datarRaw"
   ]
  },
  {
   "cell_type": "code",
   "execution_count": 4,
   "id": "c1f075ab",
   "metadata": {},
   "outputs": [
    {
     "data": {
      "text/plain": [
       "['delitos_2016.csv',\n",
       " 'delitos_2017.csv',\n",
       " 'delitos_2018.csv',\n",
       " 'delitos_2019.csv',\n",
       " 'delitos_2020.csv',\n",
       " 'delitos_2021.csv']"
      ]
     },
     "execution_count": 4,
     "metadata": {},
     "output_type": "execute_result"
    }
   ],
   "source": [
    "files_path=os.path .join(root_dir,\"Baires\",\"data\",\"raw\")\n",
    "files = os.listdir(files_path)\n",
    "files_csv_crime=[]\n",
    "for file in files:\n",
    "    if os.path.isfile(os.path.join(files_path, file)) and file.endswith('.csv'):\n",
    "        files_csv_crime.append(file) \n",
    "files_csv_crime.sort()\n",
    "files_csv_crime"
   ]
  },
  {
   "cell_type": "code",
   "execution_count": 5,
   "id": "2e30675c",
   "metadata": {},
   "outputs": [],
   "source": [
    "encodingList=[]\n",
    "for file in files_csv_crime:\n",
    "    aux_path_file=os.path .join(root_dir,\"Baires\",\"data\",\"raw\",file)\n",
    "    rawdata = open(aux_path_file, \"rb\").read()\n",
    "    result = chardet.detect(rawdata)\n",
    "    charenc = result['encoding']  \n",
    "    encodingList.append(charenc)"
   ]
  },
  {
   "cell_type": "code",
   "execution_count": 9,
   "id": "dbcde8ca",
   "metadata": {},
   "outputs": [],
   "source": [
    "from datetime import datetime  "
   ]
  },
  {
   "cell_type": "code",
   "execution_count": 6,
   "id": "1313b08b",
   "metadata": {},
   "outputs": [],
   "source": [
    "def StandarizationDateTimeDataset( df ):\n",
    "    date = []\n",
    "    for x in df2['fecha'] :\n",
    "        aux = datetime.strptime(x, \"%d/%m/%Y\")\n",
    "        date_aux = str(aux.year)+'-'+str(aux.month)+'-'+str(aux.day)\n",
    "        date.append( date_aux )\n",
    "    df['fecha'] = date\n",
    "    return df"
   ]
  },
  {
   "cell_type": "code",
   "execution_count": 12,
   "id": "854c10ef",
   "metadata": {
    "scrolled": true
   },
   "outputs": [
    {
     "name": "stdout",
     "output_type": "stream",
     "text": [
      "conversion de fecha no fue necesaria \n",
      "el archivo delitos_2016.csv posee 10\n",
      "conversion de fecha no fue necesaria \n",
      "el archivo delitos_2017.csv posee 10\n",
      "conversion de fecha no fue necesaria \n",
      "el archivo delitos_2018.csv posee 10\n",
      "conversion de fecha no fue necesaria \n",
      "el archivo delitos_2019.csv posee 10\n",
      "conversion de fecha no fue necesaria \n",
      "el archivo delitos_2020.csv posee 14\n",
      "conversion de fecha no fue necesaria \n",
      "el archivo delitos_2021.csv posee 14\n"
     ]
    }
   ],
   "source": [
    "for i in range(0,len(files_csv_crime)):\n",
    "    aux_path_file=os.path .join(root_dir,\"Baires\",\"data\",\"raw\",files_csv_crime[i])\n",
    "    if encodingList[i] == 'UTF-8-SIG':\n",
    "        df = pd.read_csv(aux_path_file,sep=\";\",dtype=str)\n",
    "        try:\n",
    "            df = StandarizationDateTimeDataset( df )\n",
    "            print(\"conversion de fecha exitosa\")\n",
    "        except:\n",
    "            print(\"conversion de fecha no fue necesaria \")\n",
    "    else:\n",
    "        df = pd.read_csv(aux_path_file,encoding=encodingList[i],dtype=str)\n",
    "        try:\n",
    "            df = StandarizationDateTimeDataset( df )\n",
    "            print(\"conversion de fecha exitosa\")\n",
    "        except:\n",
    "            print(\"conversion de fecha no fue necesaria \")\n",
    "    try:\n",
    "        #LIMPIEZA    usar codigo_valido y limpieza\n",
    "    except:\n",
    "        #LIMPIEZA    usar codigo_valido y limpieza    \n",
    "    df.to_excel(r'data/reprocessed/'+files_csv_crime[i], index=None, header=True)    \n",
    "    columns=len(df.columns)\n",
    "    #print(f'el archivo {files_csv_crime[i]} posee {columns}')"
   ]
  },
  {
   "cell_type": "code",
   "execution_count": null,
   "id": "de54017a",
   "metadata": {},
   "outputs": [],
   "source": [
    "id = [ '51585' , 'HC-2021-1008202' , 'aaaaafecw' ]\n",
    "#HC Homicidio\n",
    "#LC Lesiones\n",
    "#RH Robo y Hurto/"
   ]
  },
  {
   "cell_type": "code",
   "execution_count": null,
   "id": "8ee95d9a",
   "metadata": {},
   "outputs": [],
   "source": [
    "def LIMPIEZA(df):\n",
    "    id_clean = []\n",
    "    ids= df['id'].head().tolist()\n",
    "    fecha= df['fecha'].head().tolist()\n",
    "    try:\n",
    "        tipo_delito= df['tipo_delito'].head().tolist()\n",
    "    except:\n",
    "        tipo_delito= df['tipo'].head().tolist()\n",
    "    for i in range(0,len( ids )):\n",
    "        date = datetime.strptime(fecha[i], \"%Y-%m-%d\").year\n",
    "        if( tipo_delito[i] == 'Homicidio' ):\n",
    "            aux = 'HC-'+date+'-'+ids[i]\n",
    "        else:\n",
    "            if( tipo_delito[i] == 'Lesiones' ):\n",
    "                aux = 'LC-'+date+'-'+ids[i]\n",
    "            else:\n",
    "                 if( tipo_delito[i] in 'Robo' or tipo_delito[i] in 'Hurto' ):\n",
    "                        aux = 'RH-'+date+'-'+ids[i]\n",
    "        id_clean = id_clean.append(aux)\n",
    "    return id_clean"
   ]
  },
  {
   "cell_type": "code",
   "execution_count": null,
   "id": "0c924fe8",
   "metadata": {},
   "outputs": [],
   "source": [
    "def codigo_valido(codigo):\n",
    "  if( re.match(r\"^[A-Z]{2}-\\d{4}-\\d\", codigo) ):\n",
    "    return True\n",
    "  else:\n",
    "    return False "
   ]
  }
 ],
 "metadata": {
  "kernelspec": {
   "display_name": "Python 3 (ipykernel)",
   "language": "python",
   "name": "python3"
  },
  "language_info": {
   "codemirror_mode": {
    "name": "ipython",
    "version": 3
   },
   "file_extension": ".py",
   "mimetype": "text/x-python",
   "name": "python",
   "nbconvert_exporter": "python",
   "pygments_lexer": "ipython3",
   "version": "3.9.13"
  }
 },
 "nbformat": 4,
 "nbformat_minor": 5
}
