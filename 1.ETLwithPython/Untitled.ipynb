{
 "cells": [
  {
   "cell_type": "code",
   "execution_count": 1,
   "id": "718ae5d8",
   "metadata": {},
   "outputs": [],
   "source": [
    "import pandas as pd\n",
    "import numpy as np\n",
    "import os\n",
    "from pathlib import Path \n",
    "import chardet "
   ]
  },
  {
   "cell_type": "code",
   "execution_count": 2,
   "id": "dcab058c",
   "metadata": {},
   "outputs": [
    {
     "data": {
      "text/plain": [
       "WindowsPath('C:/Users/Diego_Castells/Desktop/ETL/DelitosBaires_ETL')"
      ]
     },
     "execution_count": 2,
     "metadata": {},
     "output_type": "execute_result"
    }
   ],
   "source": [
    "root_dir = Path(\".\").resolve().parent\n",
    "root_dir"
   ]
  },
  {
   "cell_type": "code",
   "execution_count": 8,
   "id": "621e9bff",
   "metadata": {},
   "outputs": [
    {
     "data": {
      "text/plain": [
       "['51585', '83256', '117697', '43088', '68588']"
      ]
     },
     "execution_count": 8,
     "metadata": {},
     "output_type": "execute_result"
    }
   ],
   "source": [
    "files_path=os.path .join(root_dir,\"1.ETLwithPython\",\"data\",\"raw\",\"delitos_2016.csv\")\n",
    "files_path\n",
    "df = pd.read_csv(files_path,sep=\",\",dtype=str)\n",
    "#df\n",
    "#datarRaw= df[['id','fecha','tipo_delito']]\n",
    "ids= df['id'].head().tolist()\n",
    "fecha= df['fecha'].head().tolist()\n",
    "ids= df['id'].head().tolist()\n",
    "\n",
    "datarRaw"
   ]
  },
  {
   "cell_type": "code",
   "execution_count": 9,
   "id": "ce0e27b4",
   "metadata": {},
   "outputs": [
    {
     "name": "stdout",
     "output_type": "stream",
     "text": [
      "51585\n",
      "83256\n",
      "117697\n",
      "43088\n",
      "68588\n"
     ]
    }
   ],
   "source": [
    "for x in (ids):\n",
    "    print( x )"
   ]
  },
  {
   "cell_type": "code",
   "execution_count": null,
   "id": "859416d7",
   "metadata": {},
   "outputs": [],
   "source": []
  }
 ],
 "metadata": {
  "kernelspec": {
   "display_name": "Python 3 (ipykernel)",
   "language": "python",
   "name": "python3"
  },
  "language_info": {
   "codemirror_mode": {
    "name": "ipython",
    "version": 3
   },
   "file_extension": ".py",
   "mimetype": "text/x-python",
   "name": "python",
   "nbconvert_exporter": "python",
   "pygments_lexer": "ipython3",
   "version": "3.9.13"
  }
 },
 "nbformat": 4,
 "nbformat_minor": 5
}
