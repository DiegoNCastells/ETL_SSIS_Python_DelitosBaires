{
 "cells": [
  {
   "cell_type": "code",
   "execution_count": 3,
   "id": "67ea867b",
   "metadata": {},
   "outputs": [],
   "source": [
    "import pandas as pd\n",
    "import re\n"
   ]
  },
  {
   "cell_type": "code",
   "execution_count": 5,
   "id": "d77d77f6",
   "metadata": {},
   "outputs": [],
   "source": [
    "id = [ '51585' , 'HC-2021-1008202' , 'aaaaafecw' ]\n",
    "#HC Homicidio\n",
    "#LC Lesiones\n",
    "#RH Robo y Hurto/"
   ]
  },
  {
   "cell_type": "code",
   "execution_count": 6,
   "id": "211a033c",
   "metadata": {},
   "outputs": [],
   "source": [
    "id = [ '51585' , 'HC-2021-1008202' , 'aaaaafecw' ]\n",
    "id_transform = []"
   ]
  },
  {
   "cell_type": "code",
   "execution_count": 23,
   "id": "f363744e",
   "metadata": {},
   "outputs": [
    {
     "name": "stdout",
     "output_type": "stream",
     "text": [
      "True\n",
      "True\n",
      "False\n",
      "False\n"
     ]
    }
   ],
   "source": [
    "def codigo_valido(codigo):\n",
    "  if re.match(r\"^[A-Z]{2}-\\d{4}-\\d\", codigo):\n",
    "    return True\n",
    "  else:\n",
    "    return False "
   ]
  },
  {
   "cell_type": "code",
   "execution_count": null,
   "id": "578a9cc3",
   "metadata": {},
   "outputs": [],
   "source": [
    "from datetime import datetime\n",
    "\n",
    "fecha = \"28/12/2021\"\n",
    "fecha_dt = datetime.strptime(fecha, \"%d/%m/%Y\")\n",
    "anio = fecha_dt.year\n",
    "print(anio)  # 2021\n"
   ]
  },
  {
   "cell_type": "code",
   "execution_count": null,
   "id": "4b968d51",
   "metadata": {},
   "outputs": [],
   "source": []
  }
 ],
 "metadata": {
  "kernelspec": {
   "display_name": "Python 3 (ipykernel)",
   "language": "python",
   "name": "python3"
  },
  "language_info": {
   "codemirror_mode": {
    "name": "ipython",
    "version": 3
   },
   "file_extension": ".py",
   "mimetype": "text/x-python",
   "name": "python",
   "nbconvert_exporter": "python",
   "pygments_lexer": "ipython3",
   "version": "3.9.13"
  }
 },
 "nbformat": 4,
 "nbformat_minor": 5
}
